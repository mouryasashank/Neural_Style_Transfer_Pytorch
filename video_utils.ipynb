{
  "nbformat": 4,
  "nbformat_minor": 0,
  "metadata": {
    "colab": {
      "provenance": []
    },
    "kernelspec": {
      "name": "python3",
      "display_name": "Python 3"
    },
    "language_info": {
      "name": "python"
    }
  },
  "cells": [
    {
      "cell_type": "code",
      "execution_count": 1,
      "metadata": {
        "id": "6fpm3_NDRAIL"
      },
      "outputs": [],
      "source": [
        "#video utils\n",
        "import os\n",
        "import subprocess\n",
        "\n",
        "\n",
        "def create_video_from_intermediate_results(results_path, img_format):\n",
        "    import shutil\n",
        "    #\n",
        "    # change this depending on what you want to accomplish (modify out video name, change fps and trim video)\n",
        "    #\n",
        "    out_file_name = 'out.mp4'\n",
        "    fps = 30\n",
        "    first_frame = 0\n",
        "    number_of_frames_to_process = len(os.listdir(results_path))  # default don't trim take process every frame\n",
        "\n",
        "    ffmpeg = 'ffmpeg'\n",
        "    if shutil.which(ffmpeg):  # if ffmpeg is in system path\n",
        "        img_name_format = '%' + str(img_format[0]) + 'd' + img_format[1]  # example: '%4d.png' for (4, '.png')\n",
        "        pattern = os.path.join(results_path, img_name_format)\n",
        "        out_video_path = os.path.join(results_path, out_file_name)\n",
        "\n",
        "        trim_video_command = ['-start_number', str(first_frame), '-vframes', str(number_of_frames_to_process)]\n",
        "        input_options = ['-r', str(fps), '-i', pattern]\n",
        "        encoding_options = ['-c:v', 'libx264', '-crf', '25', '-pix_fmt', 'yuv420p']\n",
        "        subprocess.call([ffmpeg, *input_options, *trim_video_command, *encoding_options, out_video_path])\n",
        "    else:\n",
        "        print(f'{ffmpeg} not found in the system path, aborting.')"
      ]
    },
    {
      "cell_type": "code",
      "source": [],
      "metadata": {
        "id": "ZB6Gq_z8RJ1Z"
      },
      "execution_count": null,
      "outputs": []
    }
  ]
}